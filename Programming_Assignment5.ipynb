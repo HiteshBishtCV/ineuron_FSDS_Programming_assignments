{
 "cells": [
  {
   "cell_type": "markdown",
   "id": "c4b33b15",
   "metadata": {},
   "source": [
    "1. Write a Python Program to Find LCM?\n",
    "2. Write a Python Program to Find HCF?\n",
    "3. Write a Python Program to Convert Decimal to Binary, Octal and Hexadecimal?\n",
    "4. Write a Python Program To Find ASCII value of a character?\n",
    "5. Write a Python Program to Make a Simple Calculator with 4 basic mathematical operations?"
   ]
  },
  {
   "cell_type": "markdown",
   "id": "e9987370",
   "metadata": {},
   "source": [
    "1)"
   ]
  },
  {
   "cell_type": "code",
   "execution_count": 30,
   "id": "12aa5665",
   "metadata": {},
   "outputs": [],
   "source": [
    "import numpy as np"
   ]
  },
  {
   "cell_type": "code",
   "execution_count": 35,
   "id": "bf0ba413",
   "metadata": {},
   "outputs": [],
   "source": [
    "def lcm(a,b):\n",
    "    # beacuse lcm=< a*b\n",
    "    max_a_b=max(a,b)\n",
    "    a_l=np.arange(1,max_a_b +1)*a\n",
    "    b_l=np.arange(1,max_a_b +1)*b\n",
    "    inter = np.intersect1d(a_l, b_l)    \n",
    "    return inter[0]"
   ]
  },
  {
   "cell_type": "code",
   "execution_count": 36,
   "id": "eec14f6a",
   "metadata": {},
   "outputs": [
    {
     "name": "stdout",
     "output_type": "stream",
     "text": [
      "1071\n"
     ]
    }
   ],
   "source": [
    "print(lcm(63,51))"
   ]
  },
  {
   "cell_type": "markdown",
   "id": "2b72afc7",
   "metadata": {},
   "source": [
    "2)"
   ]
  },
  {
   "cell_type": "code",
   "execution_count": 37,
   "id": "a95ef996",
   "metadata": {},
   "outputs": [],
   "source": [
    "def hcf(a,b):\n",
    "    return a*b/lcm(a,b)"
   ]
  },
  {
   "cell_type": "code",
   "execution_count": 39,
   "id": "e17f3132",
   "metadata": {},
   "outputs": [
    {
     "name": "stdout",
     "output_type": "stream",
     "text": [
      "2.0\n"
     ]
    }
   ],
   "source": [
    "print(hcf(10,2))"
   ]
  },
  {
   "cell_type": "markdown",
   "id": "1a68b7d0",
   "metadata": {},
   "source": [
    "3)"
   ]
  },
  {
   "cell_type": "code",
   "execution_count": 134,
   "id": "30b6239f",
   "metadata": {},
   "outputs": [],
   "source": [
    "def dec_to(dec, to_base=2):\n",
    "    if to_base<10:\n",
    "        l=''\n",
    "        if dec>0:\n",
    "            l= f\"{dec_to(dec//to_base, to_base)}{dec%to_base}\"\n",
    "        return l\n",
    "    elif to_base ==16:\n",
    "        return hex(dec)[2:]"
   ]
  },
  {
   "cell_type": "code",
   "execution_count": 135,
   "id": "582b089f",
   "metadata": {},
   "outputs": [],
   "source": [
    "def dec_too(dec, to_base):\n",
    "    return (dec_to(dec, to_base))"
   ]
  },
  {
   "cell_type": "code",
   "execution_count": 136,
   "id": "007ef66f",
   "metadata": {},
   "outputs": [
    {
     "name": "stdout",
     "output_type": "stream",
     "text": [
      "62\n"
     ]
    }
   ],
   "source": [
    "print(dec_too(50,8))"
   ]
  },
  {
   "cell_type": "code",
   "execution_count": 137,
   "id": "f84b9b65",
   "metadata": {},
   "outputs": [
    {
     "name": "stdout",
     "output_type": "stream",
     "text": [
      "f\n"
     ]
    }
   ],
   "source": [
    "print(dec_too(15,16))"
   ]
  },
  {
   "cell_type": "markdown",
   "id": "1577d634",
   "metadata": {},
   "source": [
    "4) We use ord function to get the ASCII value"
   ]
  },
  {
   "cell_type": "code",
   "execution_count": 83,
   "id": "cb34149c",
   "metadata": {},
   "outputs": [
    {
     "data": {
      "text/plain": [
       "55"
      ]
     },
     "execution_count": 83,
     "metadata": {},
     "output_type": "execute_result"
    }
   ],
   "source": [
    "ord('7')"
   ]
  },
  {
   "cell_type": "markdown",
   "id": "74a8b198",
   "metadata": {},
   "source": [
    "5)"
   ]
  },
  {
   "cell_type": "code",
   "execution_count": 97,
   "id": "8aab80f9",
   "metadata": {},
   "outputs": [],
   "source": [
    "def calculator(a,b, operation):\n",
    "    assert isinstance(a, (int, float))\n",
    "    assert isinstance(a, (int, float))\n",
    "    assert operation in [\"+\",\"-\",\"*\",\"/\"]\n",
    "    \n",
    "    if operation ==\"+\":\n",
    "        return a+b\n",
    "    elif operation ==\"-\":\n",
    "        return a-b\n",
    "    elif operation ==\"*\":\n",
    "        return a*b\n",
    "    else:\n",
    "        try:\n",
    "            return a/b\n",
    "        except Exception as e:\n",
    "            raise e\n",
    "            "
   ]
  },
  {
   "cell_type": "code",
   "execution_count": 98,
   "id": "052ec296",
   "metadata": {},
   "outputs": [
    {
     "ename": "ZeroDivisionError",
     "evalue": "division by zero",
     "output_type": "error",
     "traceback": [
      "\u001b[1;31m---------------------------------------------------------------------------\u001b[0m",
      "\u001b[1;31mZeroDivisionError\u001b[0m                         Traceback (most recent call last)",
      "\u001b[1;32m~\\AppData\\Local\\Temp/ipykernel_20872/3957954970.py\u001b[0m in \u001b[0;36m<module>\u001b[1;34m\u001b[0m\n\u001b[1;32m----> 1\u001b[1;33m \u001b[0mcalculator\u001b[0m\u001b[1;33m(\u001b[0m\u001b[1;36m10\u001b[0m\u001b[1;33m,\u001b[0m\u001b[1;36m0\u001b[0m\u001b[1;33m,\u001b[0m\u001b[1;34m'/'\u001b[0m\u001b[1;33m)\u001b[0m\u001b[1;33m\u001b[0m\u001b[1;33m\u001b[0m\u001b[0m\n\u001b[0m",
      "\u001b[1;32m~\\AppData\\Local\\Temp/ipykernel_20872/2783124869.py\u001b[0m in \u001b[0;36mcalculator\u001b[1;34m(a, b, operation)\u001b[0m\n\u001b[0;32m     14\u001b[0m             \u001b[1;32mreturn\u001b[0m \u001b[0ma\u001b[0m\u001b[1;33m/\u001b[0m\u001b[0mb\u001b[0m\u001b[1;33m\u001b[0m\u001b[1;33m\u001b[0m\u001b[0m\n\u001b[0;32m     15\u001b[0m         \u001b[1;32mexcept\u001b[0m \u001b[0mException\u001b[0m \u001b[1;32mas\u001b[0m \u001b[0me\u001b[0m\u001b[1;33m:\u001b[0m\u001b[1;33m\u001b[0m\u001b[1;33m\u001b[0m\u001b[0m\n\u001b[1;32m---> 16\u001b[1;33m             \u001b[1;32mraise\u001b[0m \u001b[0me\u001b[0m\u001b[1;33m\u001b[0m\u001b[1;33m\u001b[0m\u001b[0m\n\u001b[0m\u001b[0;32m     17\u001b[0m \u001b[1;33m\u001b[0m\u001b[0m\n",
      "\u001b[1;32m~\\AppData\\Local\\Temp/ipykernel_20872/2783124869.py\u001b[0m in \u001b[0;36mcalculator\u001b[1;34m(a, b, operation)\u001b[0m\n\u001b[0;32m     12\u001b[0m     \u001b[1;32melse\u001b[0m\u001b[1;33m:\u001b[0m\u001b[1;33m\u001b[0m\u001b[1;33m\u001b[0m\u001b[0m\n\u001b[0;32m     13\u001b[0m         \u001b[1;32mtry\u001b[0m\u001b[1;33m:\u001b[0m\u001b[1;33m\u001b[0m\u001b[1;33m\u001b[0m\u001b[0m\n\u001b[1;32m---> 14\u001b[1;33m             \u001b[1;32mreturn\u001b[0m \u001b[0ma\u001b[0m\u001b[1;33m/\u001b[0m\u001b[0mb\u001b[0m\u001b[1;33m\u001b[0m\u001b[1;33m\u001b[0m\u001b[0m\n\u001b[0m\u001b[0;32m     15\u001b[0m         \u001b[1;32mexcept\u001b[0m \u001b[0mException\u001b[0m \u001b[1;32mas\u001b[0m \u001b[0me\u001b[0m\u001b[1;33m:\u001b[0m\u001b[1;33m\u001b[0m\u001b[1;33m\u001b[0m\u001b[0m\n\u001b[0;32m     16\u001b[0m             \u001b[1;32mraise\u001b[0m \u001b[0me\u001b[0m\u001b[1;33m\u001b[0m\u001b[1;33m\u001b[0m\u001b[0m\n",
      "\u001b[1;31mZeroDivisionError\u001b[0m: division by zero"
     ]
    }
   ],
   "source": [
    "calculator(10,0,'/')"
   ]
  },
  {
   "cell_type": "code",
   "execution_count": 99,
   "id": "ace76565",
   "metadata": {},
   "outputs": [
    {
     "data": {
      "text/plain": [
       "5.0"
      ]
     },
     "execution_count": 99,
     "metadata": {},
     "output_type": "execute_result"
    }
   ],
   "source": [
    "calculator(10,2,'/')"
   ]
  },
  {
   "cell_type": "code",
   "execution_count": null,
   "id": "1ca84c0d",
   "metadata": {},
   "outputs": [],
   "source": []
  }
 ],
 "metadata": {
  "kernelspec": {
   "display_name": "Python 3 (ipykernel)",
   "language": "python",
   "name": "python3"
  },
  "language_info": {
   "codemirror_mode": {
    "name": "ipython",
    "version": 3
   },
   "file_extension": ".py",
   "mimetype": "text/x-python",
   "name": "python",
   "nbconvert_exporter": "python",
   "pygments_lexer": "ipython3",
   "version": "3.9.7"
  }
 },
 "nbformat": 4,
 "nbformat_minor": 5
}
