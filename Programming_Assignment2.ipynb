{
 "cells": [
  {
   "cell_type": "markdown",
   "id": "fbfd2683",
   "metadata": {},
   "source": [
    "1. Write a Python program to convert kilometers to miles?\n",
    "2. Write a Python program to convert Celsius to Fahrenheit?\n",
    "3. Write a Python program to display calendar?\n",
    "4. Write a Python program to solve quadratic equation?\n",
    "5. Write a Python program to swap two variables without temp variable?"
   ]
  },
  {
   "cell_type": "markdown",
   "id": "5a30a032",
   "metadata": {},
   "source": [
    "## Answers"
   ]
  },
  {
   "cell_type": "markdown",
   "id": "f5e97de1",
   "metadata": {},
   "source": [
    "1)"
   ]
  },
  {
   "cell_type": "code",
   "execution_count": 16,
   "id": "0579f12f",
   "metadata": {},
   "outputs": [],
   "source": [
    "def km_to_miles(km):\n",
    "    assert isinstance(km, (int, float))\n",
    "    return km*0.6213"
   ]
  },
  {
   "cell_type": "code",
   "execution_count": 17,
   "id": "0907fa4c",
   "metadata": {},
   "outputs": [
    {
     "name": "stdout",
     "output_type": "stream",
     "text": [
      "0.99408\n"
     ]
    }
   ],
   "source": [
    "print(km_to_miles(1.6))"
   ]
  },
  {
   "cell_type": "markdown",
   "id": "5870150c",
   "metadata": {},
   "source": [
    "2)"
   ]
  },
  {
   "cell_type": "code",
   "execution_count": 18,
   "id": "0df586bc",
   "metadata": {},
   "outputs": [],
   "source": [
    "def Cel_to_Far(Cel):\n",
    "    assert isinstance(Cel,(int,float))\n",
    "    return (9*Cel)/5 +32"
   ]
  },
  {
   "cell_type": "code",
   "execution_count": 19,
   "id": "29418983",
   "metadata": {},
   "outputs": [
    {
     "name": "stdout",
     "output_type": "stream",
     "text": [
      "212.0\n"
     ]
    }
   ],
   "source": [
    "print(Cel_to_Far(100))"
   ]
  },
  {
   "cell_type": "markdown",
   "id": "b4ac3ce4",
   "metadata": {},
   "source": [
    "3)"
   ]
  },
  {
   "cell_type": "code",
   "execution_count": 31,
   "id": "4f3c5914",
   "metadata": {},
   "outputs": [],
   "source": [
    "import calendar"
   ]
  },
  {
   "cell_type": "code",
   "execution_count": 41,
   "id": "70d040f6",
   "metadata": {},
   "outputs": [],
   "source": [
    "def display_calendar(yyyy, mm):\n",
    "    assert isinstance(mm,int)\n",
    "    assert isinstance(yyyy,int)\n",
    "    print(calendar.month(yyyy,mm))\n",
    "    "
   ]
  },
  {
   "cell_type": "code",
   "execution_count": 42,
   "id": "3823cb2c",
   "metadata": {},
   "outputs": [
    {
     "name": "stdout",
     "output_type": "stream",
     "text": [
      "      May 2025\n",
      "Mo Tu We Th Fr Sa Su\n",
      "          1  2  3  4\n",
      " 5  6  7  8  9 10 11\n",
      "12 13 14 15 16 17 18\n",
      "19 20 21 22 23 24 25\n",
      "26 27 28 29 30 31\n",
      "\n"
     ]
    }
   ],
   "source": [
    "display_calendar(2025, 5)"
   ]
  },
  {
   "cell_type": "markdown",
   "id": "e5e2d610",
   "metadata": {},
   "source": [
    "4)"
   ]
  },
  {
   "cell_type": "code",
   "execution_count": 57,
   "id": "1a941123",
   "metadata": {},
   "outputs": [],
   "source": [
    "from math import sqrt\n",
    "import cmath"
   ]
  },
  {
   "cell_type": "code",
   "execution_count": 68,
   "id": "09d983cd",
   "metadata": {},
   "outputs": [],
   "source": [
    "def sol_quad_eqn(a,b,c):\n",
    "    assert isinstance(a,(int,float))\n",
    "    assert isinstance(b,(int,float))\n",
    "    assert isinstance(c,(int,float))\n",
    "    d=b*b-4*a*c\n",
    "    if d>0:\n",
    "        return (-b+sqrt(d))/(2*a) , (-b-sqrt(d))/(2*a)\n",
    "    if d<0:\n",
    "        d=complex(0,sqrt(-d))\n",
    "        b=complex(b,0)\n",
    "        a=complex(a,0)\n",
    "        return (-b+d)/(2*a) , (-b-d)/(2*a)\n",
    "    else:\n",
    "        return -b/(2*a),-b/(2*a)"
   ]
  },
  {
   "cell_type": "code",
   "execution_count": 69,
   "id": "be95a793",
   "metadata": {},
   "outputs": [
    {
     "name": "stdout",
     "output_type": "stream",
     "text": [
      "(-0.2679491924311228, -3.732050807568877)\n"
     ]
    }
   ],
   "source": [
    "print(sol_quad_eqn(1,4,1))"
   ]
  },
  {
   "cell_type": "code",
   "execution_count": 70,
   "id": "1faab453",
   "metadata": {},
   "outputs": [
    {
     "name": "stdout",
     "output_type": "stream",
     "text": [
      "(-2.0, -2.0)\n"
     ]
    }
   ],
   "source": [
    "print(sol_quad_eqn(1,4,4))"
   ]
  },
  {
   "cell_type": "code",
   "execution_count": 71,
   "id": "71f91a2d",
   "metadata": {},
   "outputs": [
    {
     "name": "stdout",
     "output_type": "stream",
     "text": [
      "((-0.5+0.8660254037844386j), (-0.5-0.8660254037844386j))\n"
     ]
    }
   ],
   "source": [
    "print(sol_quad_eqn(1,1,1))"
   ]
  },
  {
   "cell_type": "markdown",
   "id": "97314417",
   "metadata": {},
   "source": [
    "5)"
   ]
  },
  {
   "cell_type": "code",
   "execution_count": 72,
   "id": "eb389ab3",
   "metadata": {},
   "outputs": [],
   "source": [
    "# the differnet methods for swapping with using temp variable are"
   ]
  },
  {
   "cell_type": "code",
   "execution_count": 73,
   "id": "0ff2e350",
   "metadata": {},
   "outputs": [],
   "source": [
    "def swap_1(a,b):\n",
    "    a ,b = b,a \n",
    "    return a, b"
   ]
  },
  {
   "cell_type": "code",
   "execution_count": 74,
   "id": "70203303",
   "metadata": {},
   "outputs": [
    {
     "name": "stdout",
     "output_type": "stream",
     "text": [
      "(20, 10)\n"
     ]
    }
   ],
   "source": [
    "a=10\n",
    "b=20\n",
    "print(swap_1(a,b))"
   ]
  },
  {
   "cell_type": "code",
   "execution_count": 75,
   "id": "a023c877",
   "metadata": {},
   "outputs": [],
   "source": [
    "# swap using maths"
   ]
  },
  {
   "cell_type": "code",
   "execution_count": 76,
   "id": "b0308a43",
   "metadata": {},
   "outputs": [],
   "source": [
    "def swap_2(a,b):\n",
    "    a = a + b\n",
    "    b = a-b\n",
    "    a = a -b\n",
    "    return a,b"
   ]
  },
  {
   "cell_type": "code",
   "execution_count": 77,
   "id": "06a8caf3",
   "metadata": {},
   "outputs": [
    {
     "name": "stdout",
     "output_type": "stream",
     "text": [
      "(20, 10)\n"
     ]
    }
   ],
   "source": [
    "a=10\n",
    "b=20\n",
    "print(swap_1(a,b))"
   ]
  },
  {
   "cell_type": "code",
   "execution_count": null,
   "id": "431f8ead",
   "metadata": {},
   "outputs": [],
   "source": []
  }
 ],
 "metadata": {
  "kernelspec": {
   "display_name": "Python 3 (ipykernel)",
   "language": "python",
   "name": "python3"
  },
  "language_info": {
   "codemirror_mode": {
    "name": "ipython",
    "version": 3
   },
   "file_extension": ".py",
   "mimetype": "text/x-python",
   "name": "python",
   "nbconvert_exporter": "python",
   "pygments_lexer": "ipython3",
   "version": "3.9.7"
  }
 },
 "nbformat": 4,
 "nbformat_minor": 5
}
