{
 "cells": [
  {
   "cell_type": "markdown",
   "id": "11380f73",
   "metadata": {},
   "source": [
    "1. Write a Python Program to Find the Factorial of a Number?\n",
    "2. Write a Python Program to Display the multiplication Table?\n",
    "3. Write a Python Program to Print the Fibonacci sequence?\n",
    "4. Write a Python Program to Check Armstrong Number?\n",
    "5. Write a Python Program to Find Armstrong Number in an Interval?\n",
    "6. Write a Python Program to Find the Sum of Natural Numbers?"
   ]
  },
  {
   "cell_type": "markdown",
   "id": "b02faf3c",
   "metadata": {},
   "source": [
    "1)"
   ]
  },
  {
   "cell_type": "code",
   "execution_count": 5,
   "id": "fb373a75",
   "metadata": {},
   "outputs": [],
   "source": [
    "def fact(no):\n",
    "    assert isinstance(no, int) and no>0\n",
    "    if no==1:\n",
    "        return 1\n",
    "    return no*fact(no-1)"
   ]
  },
  {
   "cell_type": "code",
   "execution_count": 12,
   "id": "831c5c74",
   "metadata": {},
   "outputs": [
    {
     "data": {
      "text/plain": [
       "6"
      ]
     },
     "execution_count": 12,
     "metadata": {},
     "output_type": "execute_result"
    }
   ],
   "source": [
    "fact(3)"
   ]
  },
  {
   "cell_type": "markdown",
   "id": "2189ffb8",
   "metadata": {},
   "source": [
    "2)"
   ]
  },
  {
   "cell_type": "code",
   "execution_count": 23,
   "id": "7e041e96",
   "metadata": {},
   "outputs": [],
   "source": [
    "import numpy as np"
   ]
  },
  {
   "cell_type": "code",
   "execution_count": 24,
   "id": "37411324",
   "metadata": {},
   "outputs": [],
   "source": [
    "def Mul_tbl(no):\n",
    "    assert isinstance(no, int) and no>0\n",
    "    mul = np.array(range(1,11))\n",
    "    return mul*no"
   ]
  },
  {
   "cell_type": "code",
   "execution_count": 25,
   "id": "82742136",
   "metadata": {},
   "outputs": [
    {
     "name": "stdout",
     "output_type": "stream",
     "text": [
      "[ 6 12 18 24 30 36 42 48 54 60]\n"
     ]
    }
   ],
   "source": [
    "print(Mul_tbl(6))"
   ]
  },
  {
   "cell_type": "markdown",
   "id": "6d6ebb31",
   "metadata": {},
   "source": [
    "3)"
   ]
  },
  {
   "cell_type": "code",
   "execution_count": 36,
   "id": "70b1261f",
   "metadata": {},
   "outputs": [],
   "source": [
    "def fibb_seq(no):\n",
    "    assert isinstance(no, int) and no>0\n",
    "    a, b =1 ,1 \n",
    "    seq= [a]\n",
    "    for i in range(no):\n",
    "        a, b = a + b ,a\n",
    "        seq.append(a)\n",
    "    return seq\n",
    "    "
   ]
  },
  {
   "cell_type": "code",
   "execution_count": 37,
   "id": "7b818093",
   "metadata": {},
   "outputs": [
    {
     "name": "stdout",
     "output_type": "stream",
     "text": [
      "[1, 2, 3, 5, 8, 13, 21, 34, 55, 89, 144]\n"
     ]
    }
   ],
   "source": [
    "print(fibb_seq(10))"
   ]
  },
  {
   "cell_type": "markdown",
   "id": "3d4902f8",
   "metadata": {},
   "source": [
    "4)"
   ]
  },
  {
   "cell_type": "code",
   "execution_count": 39,
   "id": "c29e5811",
   "metadata": {},
   "outputs": [],
   "source": [
    "def chk_armstrong(no):\n",
    "    assert isinstance(no, int) and no>0\n",
    "    no_s=str(no)\n",
    "    sum = 0\n",
    "    for i in range(len(no_s)):\n",
    "        sum += int(no_s[i])**len(no_s)\n",
    "    if sum == no:\n",
    "        print(\"Armstrong no\")\n",
    "    else:\n",
    "        print(\" Not Armstrong no\")\n",
    "        "
   ]
  },
  {
   "cell_type": "code",
   "execution_count": 42,
   "id": "ff33a7bc",
   "metadata": {},
   "outputs": [
    {
     "name": "stdout",
     "output_type": "stream",
     "text": [
      "Armstrong no\n"
     ]
    }
   ],
   "source": [
    "chk_armstrong(407)"
   ]
  },
  {
   "cell_type": "code",
   "execution_count": 43,
   "id": "407ba436",
   "metadata": {},
   "outputs": [
    {
     "name": "stdout",
     "output_type": "stream",
     "text": [
      " Not Armstrong no\n"
     ]
    }
   ],
   "source": [
    "chk_armstrong(406)"
   ]
  },
  {
   "cell_type": "markdown",
   "id": "25b78b08",
   "metadata": {},
   "source": [
    "5) "
   ]
  },
  {
   "cell_type": "code",
   "execution_count": 44,
   "id": "0b222190",
   "metadata": {},
   "outputs": [],
   "source": [
    "def chk_armstrong(no):\n",
    "    assert isinstance(no, int) and no>0\n",
    "    no_s=str(no)\n",
    "    sum = 0\n",
    "    for i in range(len(no_s)):\n",
    "        sum += int(no_s[i])**len(no_s)\n",
    "    if sum == no:\n",
    "        return no"
   ]
  },
  {
   "cell_type": "code",
   "execution_count": 47,
   "id": "9ac955ad",
   "metadata": {},
   "outputs": [],
   "source": [
    "def chk_armstrong_interval(start, end):\n",
    "    assert isinstance(start, int) and start>0\n",
    "    assert isinstance(end, int) and end>0\n",
    "    assert start < end\n",
    "    \n",
    "    am_no = []\n",
    "    for i in range(start,end+1):\n",
    "        if chk_armstrong(i) == i:\n",
    "            am_no.append(i)\n",
    "    return am_no\n",
    "    \n",
    "    "
   ]
  },
  {
   "cell_type": "code",
   "execution_count": 52,
   "id": "0485ba29",
   "metadata": {},
   "outputs": [
    {
     "name": "stdout",
     "output_type": "stream",
     "text": [
      "[1, 2, 3, 4, 5, 6, 7, 8, 9, 153, 370, 371, 407, 1634, 8208, 9474, 54748, 92727, 93084]\n"
     ]
    }
   ],
   "source": [
    "print(chk_armstrong_interval(1,100000))"
   ]
  },
  {
   "cell_type": "markdown",
   "id": "212794b7",
   "metadata": {},
   "source": [
    "6) "
   ]
  },
  {
   "cell_type": "code",
   "execution_count": 53,
   "id": "ebba4756",
   "metadata": {},
   "outputs": [],
   "source": [
    "def sum_nat(final_no):\n",
    "    assert isinstance(final_no, int) and final_no>0\n",
    "    return final_no*(final_no+1)/2"
   ]
  },
  {
   "cell_type": "code",
   "execution_count": 57,
   "id": "923ebb20",
   "metadata": {},
   "outputs": [],
   "source": [
    "def sum_nat_loop(final_no):\n",
    "    assert isinstance(final_no, int) and final_no>0\n",
    "    sum = 0\n",
    "    for i in range(final_no+1):\n",
    "        sum +=i\n",
    "    return sum\n",
    "    "
   ]
  },
  {
   "cell_type": "code",
   "execution_count": 58,
   "id": "5055930a",
   "metadata": {},
   "outputs": [
    {
     "name": "stdout",
     "output_type": "stream",
     "text": [
      "55\n"
     ]
    }
   ],
   "source": [
    "print(sum_nat_loop(10))"
   ]
  },
  {
   "cell_type": "code",
   "execution_count": 59,
   "id": "541e7ade",
   "metadata": {},
   "outputs": [
    {
     "name": "stdout",
     "output_type": "stream",
     "text": [
      "55.0\n"
     ]
    }
   ],
   "source": [
    "print(sum_nat(10))"
   ]
  },
  {
   "cell_type": "code",
   "execution_count": null,
   "id": "3f84e835",
   "metadata": {},
   "outputs": [],
   "source": []
  }
 ],
 "metadata": {
  "kernelspec": {
   "display_name": "Python 3 (ipykernel)",
   "language": "python",
   "name": "python3"
  },
  "language_info": {
   "codemirror_mode": {
    "name": "ipython",
    "version": 3
   },
   "file_extension": ".py",
   "mimetype": "text/x-python",
   "name": "python",
   "nbconvert_exporter": "python",
   "pygments_lexer": "ipython3",
   "version": "3.9.7"
  }
 },
 "nbformat": 4,
 "nbformat_minor": 5
}
