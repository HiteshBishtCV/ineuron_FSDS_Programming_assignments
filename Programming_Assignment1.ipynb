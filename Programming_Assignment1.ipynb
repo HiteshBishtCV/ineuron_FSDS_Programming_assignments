{
 "cells": [
  {
   "cell_type": "markdown",
   "id": "59ed1176",
   "metadata": {},
   "source": [
    "1. Write a Python program to print &quot;Hello Python&quot;?\n",
    "2. Write a Python program to do arithmetical operations addition and division.?\n",
    "3. Write a Python program to find the area of a triangle?\n",
    "4. Write a Python program to swap two variables?\n",
    "5. Write a Python program to generate a random number?"
   ]
  },
  {
   "cell_type": "markdown",
   "id": "526960a0",
   "metadata": {},
   "source": [
    "## Answers"
   ]
  },
  {
   "cell_type": "markdown",
   "id": "a1112f98",
   "metadata": {},
   "source": [
    "1)"
   ]
  },
  {
   "cell_type": "code",
   "execution_count": 2,
   "id": "8578dd8c",
   "metadata": {},
   "outputs": [
    {
     "name": "stdout",
     "output_type": "stream",
     "text": [
      "Hello Python\n"
     ]
    }
   ],
   "source": [
    "print(\"Hello Python\")"
   ]
  },
  {
   "cell_type": "markdown",
   "id": "f388df78",
   "metadata": {},
   "source": [
    "2)"
   ]
  },
  {
   "cell_type": "code",
   "execution_count": 20,
   "id": "a9c77d00",
   "metadata": {},
   "outputs": [],
   "source": [
    "def Add_or_Divide(a,b, operation):\n",
    "    assert isinstance(a,int or float) \n",
    "    assert isinstance(b,int or float) \n",
    "    if operation in [\"Add\",\"add\",\"+\"]:\n",
    "        return a+b\n",
    "    if operation in [\"divide\",\"Divide\",\"/\"]:\n",
    "        try:\n",
    "            return a/b\n",
    "        except Exception as e:\n",
    "            raise e\n",
    "    "
   ]
  },
  {
   "cell_type": "markdown",
   "id": "197aa75a",
   "metadata": {},
   "source": [
    "3)"
   ]
  },
  {
   "cell_type": "code",
   "execution_count": 22,
   "id": "39e10b49",
   "metadata": {},
   "outputs": [],
   "source": [
    "import typing"
   ]
  },
  {
   "cell_type": "code",
   "execution_count": 40,
   "id": "59b42575",
   "metadata": {},
   "outputs": [],
   "source": [
    "def Area_triangle(width:int or float ,height:int or float):\n",
    "    assert isinstance(width,int or float)\n",
    "    assert isinstance(height,int or float)\n",
    "    assert width >= 0\n",
    "    assert height >=0\n",
    "    return 0.5*width*height"
   ]
  },
  {
   "cell_type": "code",
   "execution_count": 42,
   "id": "d42887d3",
   "metadata": {},
   "outputs": [
    {
     "data": {
      "text/plain": [
       "2500.0"
      ]
     },
     "execution_count": 42,
     "metadata": {},
     "output_type": "execute_result"
    }
   ],
   "source": [
    "Area_triangle(100,50)"
   ]
  },
  {
   "cell_type": "markdown",
   "id": "8b218dbe",
   "metadata": {},
   "source": [
    "4)"
   ]
  },
  {
   "cell_type": "code",
   "execution_count": 43,
   "id": "34ed7330",
   "metadata": {},
   "outputs": [],
   "source": [
    "def swap(var_1, var_2):\n",
    "    temp = var_1\n",
    "    var_1 = var_2\n",
    "    var_2 = temp\n",
    "    return var_1, var_2"
   ]
  },
  {
   "cell_type": "code",
   "execution_count": 45,
   "id": "68021215",
   "metadata": {},
   "outputs": [
    {
     "name": "stdout",
     "output_type": "stream",
     "text": [
      "jot down\n",
      "down jot\n"
     ]
    }
   ],
   "source": [
    "var_1 = \"jot\"\n",
    "var_2 = \"down\"\n",
    "print(var_1,var_2)\n",
    "var_1 , var_2 = swap(var_1, var_2)\n",
    "print(var_1,var_2)"
   ]
  },
  {
   "cell_type": "markdown",
   "id": "f62a936f",
   "metadata": {},
   "source": [
    "5)"
   ]
  },
  {
   "cell_type": "code",
   "execution_count": 51,
   "id": "54d3ad51",
   "metadata": {},
   "outputs": [],
   "source": [
    "from random import randint"
   ]
  },
  {
   "cell_type": "code",
   "execution_count": 57,
   "id": "ca1fc3e7",
   "metadata": {},
   "outputs": [],
   "source": [
    "def gen_rand_nos(stop,start=0):\n",
    "    assert isinstance(stop, int)\n",
    "    assert isinstance(start, int)\n",
    "    return randint(start, stop)"
   ]
  },
  {
   "cell_type": "code",
   "execution_count": 61,
   "id": "32caf3c4",
   "metadata": {},
   "outputs": [
    {
     "name": "stdout",
     "output_type": "stream",
     "text": [
      "10\n"
     ]
    }
   ],
   "source": [
    "print(gen_rand_nos(10))"
   ]
  }
 ],
 "metadata": {
  "kernelspec": {
   "display_name": "Python 3 (ipykernel)",
   "language": "python",
   "name": "python3"
  },
  "language_info": {
   "codemirror_mode": {
    "name": "ipython",
    "version": 3
   },
   "file_extension": ".py",
   "mimetype": "text/x-python",
   "name": "python",
   "nbconvert_exporter": "python",
   "pygments_lexer": "ipython3",
   "version": "3.9.7"
  }
 },
 "nbformat": 4,
 "nbformat_minor": 5
}
