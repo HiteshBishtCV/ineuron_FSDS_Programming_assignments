{
 "cells": [
  {
   "cell_type": "markdown",
   "id": "88dd3506",
   "metadata": {},
   "source": [
    "1. Write a Python Program to find sum of array?\n",
    "2. Write a Python Program to find largest element in an array?\n",
    "3. Write a Python Program for array rotation?\n",
    "4. Write a Python Program to Split the array and add the first part to the end?\n",
    "5. Write a Python Program to check if given array is Monotonic?"
   ]
  },
  {
   "cell_type": "markdown",
   "id": "66519812",
   "metadata": {},
   "source": [
    "1)"
   ]
  },
  {
   "cell_type": "code",
   "execution_count": 67,
   "id": "effe2fed",
   "metadata": {},
   "outputs": [],
   "source": [
    "def sum_arr(arr):\n",
    "    s = 0\n",
    "    for i in arr:\n",
    "        s+=i\n",
    "    return s"
   ]
  },
  {
   "cell_type": "code",
   "execution_count": 68,
   "id": "f786ec7a",
   "metadata": {},
   "outputs": [],
   "source": [
    "li= [1,2,3,4,5,6,7,8,9,10]"
   ]
  },
  {
   "cell_type": "code",
   "execution_count": 70,
   "id": "c0b7f453",
   "metadata": {},
   "outputs": [
    {
     "data": {
      "text/plain": [
       "55"
      ]
     },
     "execution_count": 70,
     "metadata": {},
     "output_type": "execute_result"
    }
   ],
   "source": [
    "sum_arr(li)"
   ]
  },
  {
   "cell_type": "markdown",
   "id": "63e5bc94",
   "metadata": {},
   "source": [
    "2)"
   ]
  },
  {
   "cell_type": "code",
   "execution_count": 2,
   "id": "fa949bcc",
   "metadata": {},
   "outputs": [],
   "source": [
    "def lar_arr(arr):\n",
    "    lar = 0\n",
    "    for ar in arr:\n",
    "        if ar > lar:\n",
    "            lar = ar\n",
    "    return lar"
   ]
  },
  {
   "cell_type": "code",
   "execution_count": 4,
   "id": "d92d305e",
   "metadata": {},
   "outputs": [
    {
     "data": {
      "text/plain": [
       "87"
      ]
     },
     "execution_count": 4,
     "metadata": {},
     "output_type": "execute_result"
    }
   ],
   "source": [
    "lar_arr([1,2,4,5,10,45,45,76,87])"
   ]
  },
  {
   "cell_type": "markdown",
   "id": "eb452ed9",
   "metadata": {},
   "source": [
    "3)"
   ]
  },
  {
   "cell_type": "code",
   "execution_count": 76,
   "id": "f41df93d",
   "metadata": {},
   "outputs": [],
   "source": [
    "def arr_rot(arr,rotation_amt=1):\n",
    "    return arr[rotation_amt:]+arr[:rotation_amt]\n",
    "    "
   ]
  },
  {
   "cell_type": "code",
   "execution_count": 77,
   "id": "878c6357",
   "metadata": {},
   "outputs": [],
   "source": [
    "li= [1,2,3,4,5,6,7,8,9,10]"
   ]
  },
  {
   "cell_type": "code",
   "execution_count": 79,
   "id": "a0536e58",
   "metadata": {},
   "outputs": [
    {
     "data": {
      "text/plain": [
       "[4, 5, 6, 7, 8, 9, 10, 1, 2, 3]"
      ]
     },
     "execution_count": 79,
     "metadata": {},
     "output_type": "execute_result"
    }
   ],
   "source": [
    "arr_rot(li,3)"
   ]
  },
  {
   "cell_type": "markdown",
   "id": "0a149a14",
   "metadata": {},
   "source": [
    "4)"
   ]
  },
  {
   "cell_type": "code",
   "execution_count": 73,
   "id": "291d8aec",
   "metadata": {},
   "outputs": [],
   "source": [
    "def split_add(arr,idx):\n",
    "    \"\"\"Split the array at index idx and adds first part to the last\"\"\"\n",
    "    arr_f = arr[:idx]\n",
    "    arr_l = arr[idx:]\n",
    "    return arr_l + arr_f"
   ]
  },
  {
   "cell_type": "code",
   "execution_count": null,
   "id": "d6b0bc3e",
   "metadata": {},
   "outputs": [],
   "source": [
    "li= [1,2,3,4,5,6,7,8,9,10]"
   ]
  },
  {
   "cell_type": "code",
   "execution_count": 75,
   "id": "256b7aa3",
   "metadata": {},
   "outputs": [
    {
     "data": {
      "text/plain": [
       "[6, 7, 8, 9, 10, 1, 2, 3, 4, 5]"
      ]
     },
     "execution_count": 75,
     "metadata": {},
     "output_type": "execute_result"
    }
   ],
   "source": [
    "split_add(li,5)"
   ]
  },
  {
   "cell_type": "markdown",
   "id": "c78d39d6",
   "metadata": {},
   "source": [
    "5)"
   ]
  },
  {
   "cell_type": "code",
   "execution_count": 61,
   "id": "422700b7",
   "metadata": {},
   "outputs": [],
   "source": [
    "def chk_monotonic(arr):\n",
    "    if arr[0]<arr[1]:\n",
    "        for i in range(1,len(arr)-1):\n",
    "            if arr[i]>arr[i+1]:\n",
    "                return \"Not monotonic\"\n",
    "            \n",
    "        return \"Monotonic\"\n",
    "        \n",
    "    elif arr[0]>arr[1]:\n",
    "        for i in range(1,len(arr)-1):\n",
    "            if arr[i]<arr[i+1]:\n",
    "                return \"Not monotonic\"\n",
    "            \n",
    "        return \"Monotonic\"    \n",
    "  "
   ]
  },
  {
   "cell_type": "code",
   "execution_count": 62,
   "id": "5cbbede6",
   "metadata": {},
   "outputs": [],
   "source": [
    "li= [1,2,3,4,5,6,7,8,9,10]\n",
    "mi=[1,2,3,4,5,6,7,8,9,10,0,-5]\n",
    "ji=[10,9,8,8,6,5,4,3,2,1]\n",
    "ki=[10,9,8,8,6,5,4,3,2,1,10]"
   ]
  },
  {
   "cell_type": "code",
   "execution_count": 63,
   "id": "5890e9ac",
   "metadata": {},
   "outputs": [
    {
     "data": {
      "text/plain": [
       "'Monotonic'"
      ]
     },
     "execution_count": 63,
     "metadata": {},
     "output_type": "execute_result"
    }
   ],
   "source": [
    "chk_monotonic(li)"
   ]
  },
  {
   "cell_type": "code",
   "execution_count": 64,
   "id": "f3386aaf",
   "metadata": {},
   "outputs": [
    {
     "data": {
      "text/plain": [
       "'Not monotonic'"
      ]
     },
     "execution_count": 64,
     "metadata": {},
     "output_type": "execute_result"
    }
   ],
   "source": [
    "chk_monotonic(mi)"
   ]
  },
  {
   "cell_type": "code",
   "execution_count": 65,
   "id": "7d0f5322",
   "metadata": {},
   "outputs": [
    {
     "data": {
      "text/plain": [
       "'Monotonic'"
      ]
     },
     "execution_count": 65,
     "metadata": {},
     "output_type": "execute_result"
    }
   ],
   "source": [
    "chk_monotonic(ji)"
   ]
  },
  {
   "cell_type": "code",
   "execution_count": 66,
   "id": "7b763023",
   "metadata": {},
   "outputs": [
    {
     "data": {
      "text/plain": [
       "'Not monotonic'"
      ]
     },
     "execution_count": 66,
     "metadata": {},
     "output_type": "execute_result"
    }
   ],
   "source": [
    "chk_monotonic(ki)"
   ]
  },
  {
   "cell_type": "code",
   "execution_count": null,
   "id": "36c47bee",
   "metadata": {},
   "outputs": [],
   "source": []
  }
 ],
 "metadata": {
  "kernelspec": {
   "display_name": "Python 3 (ipykernel)",
   "language": "python",
   "name": "python3"
  },
  "language_info": {
   "codemirror_mode": {
    "name": "ipython",
    "version": 3
   },
   "file_extension": ".py",
   "mimetype": "text/x-python",
   "name": "python",
   "nbconvert_exporter": "python",
   "pygments_lexer": "ipython3",
   "version": "3.9.7"
  }
 },
 "nbformat": 4,
 "nbformat_minor": 5
}
