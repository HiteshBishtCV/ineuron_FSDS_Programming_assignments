{
 "cells": [
  {
   "cell_type": "markdown",
   "id": "ab6ff4a2",
   "metadata": {},
   "source": [
    "1. Write a Python program to find sum of elements in list?\n",
    "2. Write a Python program to Multiply all numbers in the list?\n",
    "3. Write a Python program to find smallest number in a list?\n",
    "4. Write a Python program to find largest number in a list?\n",
    "5. Write a Python program to find second largest number in a list?\n",
    "6. Write a Python program to find N largest elements from a list?\n",
    "7. Write a Python program to print even numbers in a list?\n",
    "8. Write a Python program to print odd numbers in a List?\n",
    "9. Write a Python program to Remove empty List from List?\n",
    "10. Write a Python program to Cloning or Copying a list?\n",
    "11. Write a Python program to Count occurrences of an element in a list?"
   ]
  },
  {
   "cell_type": "markdown",
   "id": "be844e87",
   "metadata": {},
   "source": [
    "1)"
   ]
  },
  {
   "cell_type": "code",
   "execution_count": 8,
   "id": "aec0c950",
   "metadata": {},
   "outputs": [],
   "source": [
    "def sum_list(list_no):\n",
    "    all(isinstance(item,(int,float)) for item in list_no)\n",
    "    sum_l = 0\n",
    "    for i in list_no:\n",
    "        sum_l += i\n",
    "    return sum_l"
   ]
  },
  {
   "cell_type": "code",
   "execution_count": 9,
   "id": "1a189a6d",
   "metadata": {},
   "outputs": [
    {
     "name": "stdout",
     "output_type": "stream",
     "text": [
      "28.5\n"
     ]
    }
   ],
   "source": [
    "li =[1,2,3,4,5,6,7.5]\n",
    "print(sum_list(li))"
   ]
  },
  {
   "cell_type": "markdown",
   "id": "7fc8575b",
   "metadata": {},
   "source": [
    "2)"
   ]
  },
  {
   "cell_type": "code",
   "execution_count": 12,
   "id": "3b1ec713",
   "metadata": {},
   "outputs": [],
   "source": [
    "def mul_list(list_no):\n",
    "    all(isinstance(item,(int,float)) for item in list_no)\n",
    "    mul_l = 1\n",
    "    for i in list_no:\n",
    "        mul_l *= i\n",
    "    return mul_l"
   ]
  },
  {
   "cell_type": "code",
   "execution_count": 13,
   "id": "28578568",
   "metadata": {},
   "outputs": [
    {
     "name": "stdout",
     "output_type": "stream",
     "text": [
      "5400.0\n"
     ]
    }
   ],
   "source": [
    "li =[1,2,3,4,5,6,7.5]\n",
    "print(mul_list(li))"
   ]
  },
  {
   "cell_type": "markdown",
   "id": "bd2b8f39",
   "metadata": {},
   "source": [
    "3)"
   ]
  },
  {
   "cell_type": "code",
   "execution_count": 14,
   "id": "1904bdcf",
   "metadata": {},
   "outputs": [],
   "source": [
    "def smallest_list(list_no):\n",
    "    all(isinstance(item,(int,float)) for item in list_no)\n",
    "    smallest = list_no[0]\n",
    "    for i in list_no:\n",
    "        if smallest>i:\n",
    "            smallest = i\n",
    "    return smallest\n",
    "    "
   ]
  },
  {
   "cell_type": "code",
   "execution_count": 16,
   "id": "e06dc47e",
   "metadata": {},
   "outputs": [
    {
     "name": "stdout",
     "output_type": "stream",
     "text": [
      "-5\n"
     ]
    }
   ],
   "source": [
    "li =[1,2,3,4,5,6,7.5,-5]\n",
    "print(smallest_list(li))"
   ]
  },
  {
   "cell_type": "markdown",
   "id": "7cb13865",
   "metadata": {},
   "source": [
    "4)"
   ]
  },
  {
   "cell_type": "code",
   "execution_count": 17,
   "id": "31c20c56",
   "metadata": {},
   "outputs": [],
   "source": [
    "def largest_list(list_no):\n",
    "    all(isinstance(item,(int,float)) for item in list_no)\n",
    "    largest = list_no[0]\n",
    "    for i in list_no:\n",
    "        if largest<i:\n",
    "            largest = i\n",
    "    return largest\n",
    "    "
   ]
  },
  {
   "cell_type": "code",
   "execution_count": 19,
   "id": "36126745",
   "metadata": {},
   "outputs": [
    {
     "name": "stdout",
     "output_type": "stream",
     "text": [
      "7.5\n"
     ]
    }
   ],
   "source": [
    "li =[1,2,3,4,5,6,7.5,-5]\n",
    "print(largest_list(li))"
   ]
  },
  {
   "cell_type": "markdown",
   "id": "dc9a07ae",
   "metadata": {},
   "source": [
    "5)"
   ]
  },
  {
   "cell_type": "code",
   "execution_count": 20,
   "id": "ca03b161",
   "metadata": {},
   "outputs": [],
   "source": [
    "# reusing code\n",
    "def largest_list(list_no):\n",
    "    all(isinstance(item,(int,float)) for item in list_no)\n",
    "    largest = list_no[0]\n",
    "    for i in list_no:\n",
    "        if largest<i:\n",
    "            largest = i\n",
    "    return largest"
   ]
  },
  {
   "cell_type": "code",
   "execution_count": 23,
   "id": "c9202f29",
   "metadata": {},
   "outputs": [],
   "source": [
    "def largest_2nd(list_no):\n",
    "    all(isinstance(item,(int,float)) for item in list_no)\n",
    "    largest_1 = largest_list(list_no)\n",
    "    list_no.remove(largest_1)\n",
    "    return largest_list(list_no)"
   ]
  },
  {
   "cell_type": "code",
   "execution_count": 24,
   "id": "193c05fc",
   "metadata": {},
   "outputs": [
    {
     "name": "stdout",
     "output_type": "stream",
     "text": [
      "6\n"
     ]
    }
   ],
   "source": [
    "li =[1,2,3,4,5,6,7.5,-5]\n",
    "print(largest_2nd(li))"
   ]
  },
  {
   "cell_type": "markdown",
   "id": "0ac681f0",
   "metadata": {},
   "source": [
    "6)"
   ]
  },
  {
   "cell_type": "code",
   "execution_count": 25,
   "id": "83737480",
   "metadata": {},
   "outputs": [],
   "source": [
    "# find n largest no from a list"
   ]
  },
  {
   "cell_type": "code",
   "execution_count": 26,
   "id": "b31c37ef",
   "metadata": {},
   "outputs": [],
   "source": [
    "# reusing code\n",
    "def largest_list(list_no):\n",
    "    all(isinstance(item,(int,float)) for item in list_no)\n",
    "    largest = list_no[0]\n",
    "    for i in list_no:\n",
    "        if largest<i:\n",
    "            largest = i\n",
    "    return largest"
   ]
  },
  {
   "cell_type": "code",
   "execution_count": 35,
   "id": "777c7a69",
   "metadata": {},
   "outputs": [],
   "source": [
    "def n_largest(list_no, n):\n",
    "    all(isinstance(item,(int,float)) for item in list_no)\n",
    "    assert isinstance(n, int) and n>0\n",
    "    assert n < len(list_no)\n",
    "    n_lar = []\n",
    "    for i in range(n):\n",
    "        largest = largest_list(list_no)\n",
    "        n_lar.append(largest)\n",
    "        list_no.remove(largest)\n",
    "    return n_lar      "
   ]
  },
  {
   "cell_type": "code",
   "execution_count": 39,
   "id": "d672ef95",
   "metadata": {},
   "outputs": [
    {
     "name": "stdout",
     "output_type": "stream",
     "text": [
      "[7.5, 6, 5, 4, 3]\n"
     ]
    }
   ],
   "source": [
    "li =[1,2,3,4,5,6,7.5,-5]\n",
    "print(n_largest(li,5))"
   ]
  },
  {
   "cell_type": "markdown",
   "id": "6e097b13",
   "metadata": {},
   "source": [
    "7)"
   ]
  },
  {
   "cell_type": "code",
   "execution_count": 40,
   "id": "7ff31610",
   "metadata": {},
   "outputs": [],
   "source": [
    "def even_list(list_no):\n",
    "    all(isinstance(item,int) for item in list_no)\n",
    "    even = []\n",
    "    for i in list_no:\n",
    "        if i%2==0:\n",
    "            even.append(i)\n",
    "    return even"
   ]
  },
  {
   "cell_type": "code",
   "execution_count": 41,
   "id": "a39618a9",
   "metadata": {},
   "outputs": [
    {
     "name": "stdout",
     "output_type": "stream",
     "text": [
      "[2, 4, 6]\n"
     ]
    }
   ],
   "source": [
    "li =[1,2,3,4,5,6,7.5,-5]\n",
    "print(even_list(li))"
   ]
  },
  {
   "cell_type": "markdown",
   "id": "c1585440",
   "metadata": {},
   "source": [
    "8)"
   ]
  },
  {
   "cell_type": "code",
   "execution_count": 44,
   "id": "a0469863",
   "metadata": {},
   "outputs": [],
   "source": [
    "def odd_list(list_no):\n",
    "    all(isinstance(item,int) for item in list_no)\n",
    "    odd = []\n",
    "    for i in list_no:\n",
    "        if i%2==1:\n",
    "            odd.append(i)\n",
    "    return odd"
   ]
  },
  {
   "cell_type": "code",
   "execution_count": 45,
   "id": "e1f1318a",
   "metadata": {},
   "outputs": [
    {
     "name": "stdout",
     "output_type": "stream",
     "text": [
      "[1, 3, 5, -5]\n"
     ]
    }
   ],
   "source": [
    "li =[1,2,3,4,5,6,7.5,-5]\n",
    "print(odd_list(li))"
   ]
  },
  {
   "cell_type": "markdown",
   "id": "2b1014a3",
   "metadata": {},
   "source": [
    "9)"
   ]
  },
  {
   "cell_type": "code",
   "execution_count": 51,
   "id": "6eaed18c",
   "metadata": {},
   "outputs": [
    {
     "name": "stdout",
     "output_type": "stream",
     "text": [
      "[5, 6, 3, 9]\n"
     ]
    }
   ],
   "source": [
    "test_list = [5, 6, [], 3, [], [], 9]\n",
    "reduced_list = [ x for x in test_list if x != []]\n",
    "print(reduced_list)"
   ]
  },
  {
   "cell_type": "markdown",
   "id": "1a16ba5f",
   "metadata": {},
   "source": [
    "10)"
   ]
  },
  {
   "cell_type": "code",
   "execution_count": 52,
   "id": "9274f7d9",
   "metadata": {},
   "outputs": [
    {
     "name": "stdout",
     "output_type": "stream",
     "text": [
      "[5, 6, [], 3, [], [], 9]\n",
      "[5, 6, [], 4, [], [], 9]\n",
      "[5, 6, [], 3, [], [], 9]\n"
     ]
    }
   ],
   "source": [
    "copy_list = test_list[:]\n",
    "print(copy_list)\n",
    "test_list[3]=4\n",
    "print(test_list)\n",
    "print(copy_list)"
   ]
  },
  {
   "cell_type": "markdown",
   "id": "73e68b03",
   "metadata": {},
   "source": [
    "11)"
   ]
  },
  {
   "cell_type": "code",
   "execution_count": 53,
   "id": "5aec0976",
   "metadata": {},
   "outputs": [],
   "source": [
    "def counts_element(list_no, element):\n",
    "    all(isinstance(item,(int,float)) for item in list_no)\n",
    "    count = 0\n",
    "    for i in list_no:\n",
    "        if i == element:\n",
    "            count+=1\n",
    "    return count\n",
    "    "
   ]
  },
  {
   "cell_type": "code",
   "execution_count": 54,
   "id": "534d1a12",
   "metadata": {},
   "outputs": [
    {
     "name": "stdout",
     "output_type": "stream",
     "text": [
      "3\n"
     ]
    }
   ],
   "source": [
    "test_list = [5, 6, [], 3, [], [], 9]\n",
    "print(counts_element(test_list,[]))"
   ]
  },
  {
   "cell_type": "code",
   "execution_count": 55,
   "id": "ab9bae32",
   "metadata": {},
   "outputs": [
    {
     "data": {
      "text/plain": [
       "3"
      ]
     },
     "execution_count": 55,
     "metadata": {},
     "output_type": "execute_result"
    }
   ],
   "source": [
    "# direct method\n",
    "test_list.count([])"
   ]
  },
  {
   "cell_type": "code",
   "execution_count": null,
   "id": "ae2a198f",
   "metadata": {},
   "outputs": [],
   "source": []
  }
 ],
 "metadata": {
  "kernelspec": {
   "display_name": "Python 3 (ipykernel)",
   "language": "python",
   "name": "python3"
  },
  "language_info": {
   "codemirror_mode": {
    "name": "ipython",
    "version": 3
   },
   "file_extension": ".py",
   "mimetype": "text/x-python",
   "name": "python",
   "nbconvert_exporter": "python",
   "pygments_lexer": "ipython3",
   "version": "3.9.7"
  }
 },
 "nbformat": 4,
 "nbformat_minor": 5
}
