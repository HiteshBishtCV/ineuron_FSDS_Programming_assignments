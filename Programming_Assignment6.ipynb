{
 "cells": [
  {
   "cell_type": "markdown",
   "id": "a0dce4ab",
   "metadata": {},
   "source": [
    "1. Write a Python Program to Display Fibonacci Sequence Using Recursion?\n",
    "2. Write a Python Program to Find Factorial of Number Using Recursion?\n",
    "3. Write a Python Program to calculate your Body Mass Index?\n",
    "4. Write a Python Program to calculate the natural logarithm of any number?\n",
    "5. Write a Python Program for cube sum of first n natural numbers?"
   ]
  },
  {
   "cell_type": "markdown",
   "id": "73a0b598",
   "metadata": {},
   "source": [
    "1)"
   ]
  },
  {
   "cell_type": "code",
   "execution_count": 6,
   "id": "3d253b40",
   "metadata": {},
   "outputs": [],
   "source": [
    "def fibb_seq(no):\n",
    "    assert isinstance(no, int) and no>0\n",
    "    a, b =1 ,1 \n",
    "    seq= [a]\n",
    "    for i in range(no):\n",
    "        a, b = a + b ,a\n",
    "        seq.append(a)\n",
    "    return seq"
   ]
  },
  {
   "cell_type": "code",
   "execution_count": 7,
   "id": "4258023a",
   "metadata": {},
   "outputs": [
    {
     "name": "stdout",
     "output_type": "stream",
     "text": [
      "[1, 2, 3, 5, 8, 13, 21, 34, 55, 89, 144]\n"
     ]
    }
   ],
   "source": [
    "print(fibb_seq(10))"
   ]
  },
  {
   "cell_type": "markdown",
   "id": "6be62247",
   "metadata": {},
   "source": [
    "2)"
   ]
  },
  {
   "cell_type": "code",
   "execution_count": 8,
   "id": "b65a5ca2",
   "metadata": {},
   "outputs": [],
   "source": [
    "def factorial(no):\n",
    "    assert isinstance(no, int) and no>0\n",
    "    a = 1\n",
    "    for i in range(1,no+1):\n",
    "        a *= i\n",
    "    return a"
   ]
  },
  {
   "cell_type": "code",
   "execution_count": 9,
   "id": "d9e6e9e6",
   "metadata": {},
   "outputs": [
    {
     "name": "stdout",
     "output_type": "stream",
     "text": [
      "720\n"
     ]
    }
   ],
   "source": [
    "print(factorial(6))"
   ]
  },
  {
   "cell_type": "markdown",
   "id": "6f756c4d",
   "metadata": {},
   "source": [
    "3)"
   ]
  },
  {
   "cell_type": "code",
   "execution_count": 22,
   "id": "a2cc9fad",
   "metadata": {},
   "outputs": [],
   "source": [
    "def bmi(mass_kg, height_m):\n",
    "    assert isinstance(mass_kg, (int, float)) and mass_kg>0\n",
    "    assert isinstance(height_m,  (int, float)) and height_m>0\n",
    "    return mass_kg /(height_m*2)"
   ]
  },
  {
   "cell_type": "code",
   "execution_count": 23,
   "id": "3937024a",
   "metadata": {},
   "outputs": [
    {
     "name": "stdout",
     "output_type": "stream",
     "text": [
      "20.58823529411765\n"
     ]
    }
   ],
   "source": [
    "print(bmi(70,1.70))"
   ]
  },
  {
   "cell_type": "markdown",
   "id": "9238c8f1",
   "metadata": {},
   "source": [
    "4)"
   ]
  },
  {
   "cell_type": "code",
   "execution_count": 31,
   "id": "0708c7dc",
   "metadata": {},
   "outputs": [],
   "source": [
    "import numpy as np\n"
   ]
  },
  {
   "cell_type": "code",
   "execution_count": 33,
   "id": "2b9afe2d",
   "metadata": {},
   "outputs": [
    {
     "data": {
      "text/plain": [
       "2.0"
      ]
     },
     "execution_count": 33,
     "metadata": {},
     "output_type": "execute_result"
    }
   ],
   "source": [
    "np.log(np.exp(2))"
   ]
  },
  {
   "cell_type": "markdown",
   "id": "f177e5a7",
   "metadata": {},
   "source": [
    "5)"
   ]
  },
  {
   "cell_type": "code",
   "execution_count": 39,
   "id": "d95db52e",
   "metadata": {},
   "outputs": [],
   "source": [
    "def sum_cube_n(no):\n",
    "    no_s = (np.arange(1,no+1))**3\n",
    "    return no_s.sum()\n",
    "    "
   ]
  },
  {
   "cell_type": "code",
   "execution_count": 44,
   "id": "28ed345a",
   "metadata": {},
   "outputs": [
    {
     "data": {
      "text/plain": [
       "100"
      ]
     },
     "execution_count": 44,
     "metadata": {},
     "output_type": "execute_result"
    }
   ],
   "source": [
    "sum_cube_n(4)"
   ]
  },
  {
   "cell_type": "code",
   "execution_count": null,
   "id": "5e10e6ea",
   "metadata": {},
   "outputs": [],
   "source": []
  }
 ],
 "metadata": {
  "kernelspec": {
   "display_name": "Python 3 (ipykernel)",
   "language": "python",
   "name": "python3"
  },
  "language_info": {
   "codemirror_mode": {
    "name": "ipython",
    "version": 3
   },
   "file_extension": ".py",
   "mimetype": "text/x-python",
   "name": "python",
   "nbconvert_exporter": "python",
   "pygments_lexer": "ipython3",
   "version": "3.9.7"
  }
 },
 "nbformat": 4,
 "nbformat_minor": 5
}
